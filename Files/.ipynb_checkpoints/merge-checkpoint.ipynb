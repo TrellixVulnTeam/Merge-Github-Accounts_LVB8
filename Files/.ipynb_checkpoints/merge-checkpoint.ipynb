{
 "cells": [
  {
   "cell_type": "code",
   "execution_count": 30,
   "id": "ba7e1b04",
   "metadata": {},
   "outputs": [
    {
     "name": "stderr",
     "output_type": "stream",
     "text": [
      "\n",
      "\n",
      "====== WebDriver manager ======\n",
      "Current firefox version is 100.0\n",
      "Get LATEST geckodriver version for 100.0 firefox\n",
      "Driver [/Users/matsuruhoshi/.wdm/drivers/geckodriver/macos/v0.31.0/geckodriver] found in cache\n",
      "/var/folders/q0/q_g3pjg57mlb69nkr12cvsnm0000gn/T/ipykernel_61425/519189794.py:5: DeprecationWarning: executable_path has been deprecated, please pass in a Service object\n",
      "  driver = webdriver.Firefox(executable_path=GeckoDriverManager().install())\n"
     ]
    }
   ],
   "source": [
    "from selenium import webdriver\n",
    "from selenium.webdriver.common.by import By\n",
    "from webdriver_manager.firefox import GeckoDriverManager\n",
    "\n",
    "driver = webdriver.Firefox(executable_path=GeckoDriverManager().install())"
   ]
  },
  {
   "cell_type": "code",
   "execution_count": 31,
   "id": "cf871db6",
   "metadata": {},
   "outputs": [],
   "source": [
    "driver.get(\"https://github.com/\")\n",
    "driver.find_element(By.LINK_TEXT,\"Sign in\").click()"
   ]
  },
  {
   "cell_type": "code",
   "execution_count": 32,
   "id": "0128deb0",
   "metadata": {},
   "outputs": [],
   "source": [
    "username = driver.find_element(By.NAME, \"login\")\n",
    "password = driver.find_element(By.NAME, \"password\")\n",
    "username.send_keys(\"matsuru-hoshi\")\n",
    "password.send_keys(\"conglomerateMedal5181543*\")\n",
    "driver.find_element(By.NAME, \"commit\").click()"
   ]
  },
  {
   "cell_type": "code",
   "execution_count": null,
   "id": "4f10d862",
   "metadata": {},
   "outputs": [],
   "source": []
  },
  {
   "cell_type": "code",
   "execution_count": 29,
   "id": "4ab8e4fb",
   "metadata": {},
   "outputs": [],
   "source": [
    "driver.quit()"
   ]
  }
 ],
 "metadata": {
  "kernelspec": {
   "display_name": "Python [conda env:github-merge-accounts]",
   "language": "python",
   "name": "conda-env-github-merge-accounts-py"
  },
  "language_info": {
   "codemirror_mode": {
    "name": "ipython",
    "version": 3
   },
   "file_extension": ".py",
   "mimetype": "text/x-python",
   "name": "python",
   "nbconvert_exporter": "python",
   "pygments_lexer": "ipython3",
   "version": "3.10.4"
  }
 },
 "nbformat": 4,
 "nbformat_minor": 5
}
