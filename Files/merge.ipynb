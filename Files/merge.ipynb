{
 "cells": [
  {
   "cell_type": "code",
   "execution_count": 7,
   "id": "ba7e1b04",
   "metadata": {},
   "outputs": [
    {
     "ename": "TypeError",
     "evalue": "load() missing 1 required positional argument: 'Loader'",
     "output_type": "error",
     "traceback": [
      "\u001b[0;31m---------------------------------------------------------------------------\u001b[0m",
      "\u001b[0;31mTypeError\u001b[0m                                 Traceback (most recent call last)",
      "\u001b[1;32m/Users/matsuruhoshi/Documents/Projects/GithubMergeAccounts/Files/merge.ipynb Cell 1'\u001b[0m in \u001b[0;36m<cell line: 6>\u001b[0;34m()\u001b[0m\n\u001b[1;32m      <a href='vscode-notebook-cell:/Users/matsuruhoshi/Documents/Projects/GithubMergeAccounts/Files/merge.ipynb#ch0000000?line=2'>3</a>\u001b[0m \u001b[39mfrom\u001b[39;00m \u001b[39mwebdriver_manager\u001b[39;00m\u001b[39m.\u001b[39;00m\u001b[39mfirefox\u001b[39;00m \u001b[39mimport\u001b[39;00m GeckoDriverManager\n\u001b[1;32m      <a href='vscode-notebook-cell:/Users/matsuruhoshi/Documents/Projects/GithubMergeAccounts/Files/merge.ipynb#ch0000000?line=4'>5</a>\u001b[0m \u001b[39mimport\u001b[39;00m \u001b[39myaml\u001b[39;00m\n\u001b[0;32m----> <a href='vscode-notebook-cell:/Users/matsuruhoshi/Documents/Projects/GithubMergeAccounts/Files/merge.ipynb#ch0000000?line=5'>6</a>\u001b[0m data \u001b[39m=\u001b[39m yaml\u001b[39m.\u001b[39;49mload(\u001b[39mopen\u001b[39;49m(\u001b[39m\"\u001b[39;49m\u001b[39minfo.yml\u001b[39;49m\u001b[39m\"\u001b[39;49m, \u001b[39m\"\u001b[39;49m\u001b[39mr\u001b[39;49m\u001b[39m\"\u001b[39;49m)) \u001b[39m# data is a dictionary\u001b[39;00m\n\u001b[1;32m      <a href='vscode-notebook-cell:/Users/matsuruhoshi/Documents/Projects/GithubMergeAccounts/Files/merge.ipynb#ch0000000?line=7'>8</a>\u001b[0m driver \u001b[39m=\u001b[39m webdriver\u001b[39m.\u001b[39mFirefox(executable_path\u001b[39m=\u001b[39mGeckoDriverManager()\u001b[39m.\u001b[39minstall())\n",
      "\u001b[0;31mTypeError\u001b[0m: load() missing 1 required positional argument: 'Loader'"
     ]
    }
   ],
   "source": [
    "from selenium import webdriver\n",
    "from selenium.webdriver.common.by import By\n",
    "from webdriver_manager.firefox import GeckoDriverManager\n",
    "\n",
    "import yaml\n",
    "data = yaml.full_load(open(\"info.yml\", \"r\")) # data is a dictionary\n",
    "\n",
    "driver = webdriver.Firefox(executable_path=GeckoDriverManager().install())"
   ]
  },
  {
   "cell_type": "code",
   "execution_count": 2,
   "id": "cf871db6",
   "metadata": {},
   "outputs": [],
   "source": [
    "driver.get(\"https://github.com/\")\n",
    "driver.find_element(By.LINK_TEXT,\"Sign in\").click()"
   ]
  },
  {
   "cell_type": "code",
   "execution_count": 3,
   "id": "0128deb0",
   "metadata": {},
   "outputs": [],
   "source": [
    "username = driver.find_element(By.NAME, \"login\")\n",
    "password = driver.find_element(By.NAME, \"password\")\n",
    "username.send_keys(data[\"username\"])\n",
    "password.send_keys(data[\"password\"])\n",
    "driver.find_element(By.NAME, \"commit\").click()"
   ]
  },
  {
   "cell_type": "code",
   "execution_count": null,
   "id": "4f10d862",
   "metadata": {},
   "outputs": [],
   "source": []
  },
  {
   "cell_type": "code",
   "execution_count": 6,
   "id": "4ab8e4fb",
   "metadata": {},
   "outputs": [],
   "source": [
    "driver.quit()"
   ]
  }
 ],
 "metadata": {
  "interpreter": {
   "hash": "193ce10fc86e35c5cec1f1f33c42e378e2b654460a395cd66f23d6cf508fee3d"
  },
  "kernelspec": {
   "display_name": "Python [conda env:github-merge-accounts]",
   "language": "python",
   "name": "python3"
  },
  "language_info": {
   "codemirror_mode": {
    "name": "ipython",
    "version": 3
   },
   "file_extension": ".py",
   "mimetype": "text/x-python",
   "name": "python",
   "nbconvert_exporter": "python",
   "pygments_lexer": "ipython3",
   "version": "3.10.4"
  }
 },
 "nbformat": 4,
 "nbformat_minor": 5
}
